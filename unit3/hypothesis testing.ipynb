{
 "cells": [
  {
   "cell_type": "markdown",
   "metadata": {},
   "source": [
    "sample_mean: The sample mean (usually obtained from sample \n",
    "data).\n",
    "\n",
    "pop_mean: The population mean (the null hypothesis value).\n",
    "\n",
    "std_dev: The population standard deviation (known or \n",
    "estimated).\n",
    "\n",
    "sample_size: The size of the sample.\n",
    "\n",
    "alpha: The significance level (usually denoted as α) for hypothesis testing."
   ]
  },
  {
   "cell_type": "code",
   "execution_count": 1,
   "metadata": {
    "collapsed": false
   },
   "outputs": [
    {
     "name": "stdout",
     "output_type": "stream",
     "text": [
      "H0 : μ = 558\n",
      "H1 : μ != 558\n",
      "alpha value is : 0.05 \n",
      "\n",
      "actual z value : 1.9599639845400545\n",
      "hypothesis z value : 1.9424460431654675 \n",
      "\n",
      "Failed to reject NULL hypothesis\n"
     ]
    }
   ],
   "source": [
    "from scipy.stats import norm\n",
    "from math import sqrt\n",
    "\n",
    "\n",
    "def two_sided_hypo(sample_mean, pop_mean, std_dev, sample_size, alpha):\n",
    "    actual_z = abs(norm.ppf(alpha/2))\n",
    "    #calculates the critical z-score for a two-tailed test.\n",
    "    #norm.ppf(alpha/2) computes the z-score corresponding to the left tail (α/2)\n",
    "    #Taking the absolute value ensures we consider both tails\n",
    "    hypo_z = (sample_mean - pop_mean) / (std_dev/sqrt(sample_size))\n",
    "    #calculates the z-score for the sample mean based on the population mean and standard deviation.\n",
    "    #This z-score represents how many standard deviations the sample mean is away from the population mean\n",
    "    print('actual z value :', actual_z)\n",
    "    print('hypothesis z value :', hypo_z, '\\n')\n",
    "    if hypo_z >= actual_z or hypo_z <= -(actual_z):\n",
    "        return True# reject null hypo\n",
    "    else:\n",
    "        return False# failed to reject null hypo \n",
    "    \n",
    "\n",
    "alpha = 0.05\n",
    "sample_mean = 585\n",
    "pop_mean = 558\n",
    "sample_size =  100\n",
    "std_dev = 139\n",
    "\n",
    "#The null hypothesis (H0) assumes that the population mean (μ) is equal to the specified pop_mean.\n",
    "# The alternative hypothesis (H1) assumes that the population mean is not equal to pop_mean.\n",
    "print('H0 : μ =', pop_mean)\n",
    "print('H1 : μ !=', pop_mean)\n",
    "print('alpha value is :', alpha, '\\n')\n",
    "\n",
    "reject = two_sided_hypo(sample_mean, pop_mean, std_dev, sample_size, alpha)\n",
    "if reject:#true\n",
    "    print('Reject NULL hypothesis')\n",
    "else:#false\n",
    "    print('Failed to reject NULL hypothesis')\n",
    "#variation with different parameters can be shown here"
   ]
  },
  {
   "cell_type": "code",
   "execution_count": 2,
   "metadata": {
    "collapsed": false
   },
   "outputs": [
    {
     "name": "stdout",
     "output_type": "stream",
     "text": [
      "H0 : μ <= 100\n",
      "H1 : μ > 100\n",
      "alpha value is : 0.05 \n",
      "\n",
      "actual z value : 1.6448536269514729\n",
      "hypothesis z value : 3.2 \n",
      "\n",
      "Reject NULL hypothesis\n"
     ]
    }
   ],
   "source": [
    "#one sided hypothesis test(for smaller than in NULL hypothesis)\n",
    "def one_sided_hypo(sample_mean, pop_mean, std_dev, sample_size, alpha):\n",
    "    actual_z = abs(norm.ppf(alpha))\n",
    "    #calculates the critical z-score for a one-tailed test.\n",
    "    #norm.ppf(alpha) computes the z-score corresponding to the right tail (α).\n",
    "    hypo_z = (sample_mean - pop_mean) / (std_dev/sqrt(sample_size))\n",
    "    print('actual z value :', actual_z)\n",
    "    print('hypothesis z value :', hypo_z, '\\n')\n",
    "    if hypo_z >= actual_z:\n",
    "        return True\n",
    "    else:\n",
    "        return False\n",
    "    \n",
    "alpha = 0.05\n",
    "sample_mean = 108\n",
    "pop_mean = 100\n",
    "sample_size =  36\n",
    "std_dev = 15\n",
    "\n",
    "print('H0 : μ <=', pop_mean)\n",
    "print('H1 : μ >', pop_mean)\n",
    "print('alpha value is :', alpha, '\\n')\n",
    "\n",
    "reject = one_sided_hypo(sample_mean, pop_mean, std_dev, sample_size, alpha)\n",
    "if reject:\n",
    "    print('Reject NULL hypothesis')\n",
    "else:\n",
    "    print('Failed to reject NULL hypothesis')\n",
    "#variation with different parameters can be shown here"
   ]
  }
 ],
 "metadata": {
  "kernelspec": {
   "display_name": "Python 3",
   "language": "python",
   "name": "python3"
  },
  "language_info": {
   "codemirror_mode": {
    "name": "ipython",
    "version": 3
   },
   "file_extension": ".py",
   "mimetype": "text/x-python",
   "name": "python",
   "nbconvert_exporter": "python",
   "pygments_lexer": "ipython3",
   "version": "3.10.5"
  }
 },
 "nbformat": 4,
 "nbformat_minor": 2
}
